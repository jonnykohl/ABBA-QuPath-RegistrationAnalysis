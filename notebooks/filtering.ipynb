{
 "cells": [
  {
   "cell_type": "markdown",
   "id": "4e3173db-3e3a-4b99-9a5f-ff321e4629a6",
   "metadata": {},
   "source": [
    "### Q: Is there a higher proportion of Esr1 positive cells in the MPN compared to the brain-wide average?"
   ]
  },
  {
   "cell_type": "code",
   "execution_count": 23,
   "id": "8a417b81-2e1f-49d5-aef3-6c730dd32d76",
   "metadata": {},
   "outputs": [],
   "source": [
    "import numpy as np\n",
    "import pandas as pd\n",
    "import matplotlib.pyplot as plt\n",
    "import seaborn as sns"
   ]
  },
  {
   "cell_type": "code",
   "execution_count": 3,
   "id": "fe43cdc7-db89-4253-8fcb-e382efdac4b4",
   "metadata": {},
   "outputs": [
    {
     "data": {
      "text/html": [
       "<div>\n",
       "<style scoped>\n",
       "    .dataframe tbody tr th:only-of-type {\n",
       "        vertical-align: middle;\n",
       "    }\n",
       "\n",
       "    .dataframe tbody tr th {\n",
       "        vertical-align: top;\n",
       "    }\n",
       "\n",
       "    .dataframe thead th {\n",
       "        text-align: right;\n",
       "    }\n",
       "</style>\n",
       "<table border=\"1\" class=\"dataframe\">\n",
       "  <thead>\n",
       "    <tr style=\"text-align: right;\">\n",
       "      <th></th>\n",
       "      <th>Class</th>\n",
       "      <th>X</th>\n",
       "      <th>Y</th>\n",
       "      <th>Z</th>\n",
       "      <th>Esr1 (Opal 480): Num Spots</th>\n",
       "      <th>Prg (Opal 520): Num Spots</th>\n",
       "      <th>Prlr (Opal 570): Num Spots</th>\n",
       "      <th>Oxt (Opal 620): Num Spots</th>\n",
       "      <th>Acronym</th>\n",
       "      <th>BrainRegion</th>\n",
       "      <th>Image</th>\n",
       "    </tr>\n",
       "  </thead>\n",
       "  <tbody>\n",
       "    <tr>\n",
       "      <th>0</th>\n",
       "      <td>Positive</td>\n",
       "      <td>3.1363</td>\n",
       "      <td>2.2320</td>\n",
       "      <td>2.9190</td>\n",
       "      <td>21</td>\n",
       "      <td>0</td>\n",
       "      <td>0</td>\n",
       "      <td>0</td>\n",
       "      <td>NaN</td>\n",
       "      <td>NaN</td>\n",
       "      <td>PW166-A05_Scan1_Region1.tsv</td>\n",
       "    </tr>\n",
       "    <tr>\n",
       "      <th>1</th>\n",
       "      <td>Positive</td>\n",
       "      <td>3.1365</td>\n",
       "      <td>2.1999</td>\n",
       "      <td>2.9437</td>\n",
       "      <td>8</td>\n",
       "      <td>0</td>\n",
       "      <td>0</td>\n",
       "      <td>0</td>\n",
       "      <td>NaN</td>\n",
       "      <td>NaN</td>\n",
       "      <td>PW166-A05_Scan1_Region1.tsv</td>\n",
       "    </tr>\n",
       "    <tr>\n",
       "      <th>2</th>\n",
       "      <td>Positive</td>\n",
       "      <td>3.1365</td>\n",
       "      <td>2.1906</td>\n",
       "      <td>2.9545</td>\n",
       "      <td>8</td>\n",
       "      <td>0</td>\n",
       "      <td>0</td>\n",
       "      <td>0</td>\n",
       "      <td>NaN</td>\n",
       "      <td>NaN</td>\n",
       "      <td>PW166-A05_Scan1_Region1.tsv</td>\n",
       "    </tr>\n",
       "    <tr>\n",
       "      <th>3</th>\n",
       "      <td>Positive</td>\n",
       "      <td>3.1365</td>\n",
       "      <td>2.1742</td>\n",
       "      <td>2.9655</td>\n",
       "      <td>16</td>\n",
       "      <td>0</td>\n",
       "      <td>0</td>\n",
       "      <td>0</td>\n",
       "      <td>NaN</td>\n",
       "      <td>NaN</td>\n",
       "      <td>PW166-A05_Scan1_Region1.tsv</td>\n",
       "    </tr>\n",
       "    <tr>\n",
       "      <th>4</th>\n",
       "      <td>Positive</td>\n",
       "      <td>3.1365</td>\n",
       "      <td>2.1650</td>\n",
       "      <td>2.9771</td>\n",
       "      <td>4</td>\n",
       "      <td>0</td>\n",
       "      <td>0</td>\n",
       "      <td>0</td>\n",
       "      <td>NaN</td>\n",
       "      <td>NaN</td>\n",
       "      <td>PW166-A05_Scan1_Region1.tsv</td>\n",
       "    </tr>\n",
       "  </tbody>\n",
       "</table>\n",
       "</div>"
      ],
      "text/plain": [
       "      Class       X       Y       Z  Esr1 (Opal 480): Num Spots  \\\n",
       "0  Positive  3.1363  2.2320  2.9190                          21   \n",
       "1  Positive  3.1365  2.1999  2.9437                           8   \n",
       "2  Positive  3.1365  2.1906  2.9545                           8   \n",
       "3  Positive  3.1365  2.1742  2.9655                          16   \n",
       "4  Positive  3.1365  2.1650  2.9771                           4   \n",
       "\n",
       "   Prg (Opal 520): Num Spots  Prlr (Opal 570): Num Spots  \\\n",
       "0                          0                           0   \n",
       "1                          0                           0   \n",
       "2                          0                           0   \n",
       "3                          0                           0   \n",
       "4                          0                           0   \n",
       "\n",
       "   Oxt (Opal 620): Num Spots Acronym BrainRegion                        Image  \n",
       "0                          0     NaN         NaN  PW166-A05_Scan1_Region1.tsv  \n",
       "1                          0     NaN         NaN  PW166-A05_Scan1_Region1.tsv  \n",
       "2                          0     NaN         NaN  PW166-A05_Scan1_Region1.tsv  \n",
       "3                          0     NaN         NaN  PW166-A05_Scan1_Region1.tsv  \n",
       "4                          0     NaN         NaN  PW166-A05_Scan1_Region1.tsv  "
      ]
     },
     "execution_count": 3,
     "metadata": {},
     "output_type": "execute_result"
    }
   ],
   "source": [
    "filename = \"E:registration_workshop/5_exported_cell_registrations/brain1.feather\"\n",
    "df = pd.read_feather(filename)\n",
    "df.head()"
   ]
  },
  {
   "cell_type": "code",
   "execution_count": 5,
   "id": "779a0698-85f8-448f-9480-adc162e913b2",
   "metadata": {},
   "outputs": [
    {
     "data": {
      "text/plain": [
       "Positive    0.990249\n",
       "Negative    0.009751\n",
       "Name: Class, dtype: float64"
      ]
     },
     "execution_count": 5,
     "metadata": {},
     "output_type": "execute_result"
    }
   ],
   "source": [
    "df.Class.value_counts(normalize=True)"
   ]
  },
  {
   "cell_type": "code",
   "execution_count": 83,
   "id": "d866c5c5-8be2-4845-8d94-9a346d68bf67",
   "metadata": {},
   "outputs": [
    {
     "data": {
      "text/plain": [
       "(0.0, 200.0)"
      ]
     },
     "execution_count": 83,
     "metadata": {},
     "output_type": "execute_result"
    },
    {
     "data": {
      "image/png": "[encoded data removed]",
      "text/plain": [
       "<Figure size 360x360 with 1 Axes>"
      ]
     },
     "metadata": {
      "needs_background": "light"
     },
     "output_type": "display_data"
    }
   ],
   "source": [
    "sns.displot(df['Esr1 (Opal 480): Num Spots'])\n",
    "plt.ylim(top=200)"
   ]
  },
  {
   "cell_type": "code",
   "execution_count": 7,
   "id": "2070904e-7290-4c9e-b566-277787e49b2f",
   "metadata": {},
   "outputs": [
    {
     "data": {
      "text/plain": [
       "Positive    1.0\n",
       "Name: Class, dtype: float64"
      ]
     },
     "execution_count": 7,
     "metadata": {},
     "output_type": "execute_result"
    }
   ],
   "source": [
    "df_cleaned = df[df.Class == 'Positive']\n",
    "df_cleaned.Class.value_counts(normalize=True)"
   ]
  },
  {
   "cell_type": "code",
   "execution_count": 32,
   "id": "251e219d-788f-4769-90bd-121dca18ec77",
   "metadata": {},
   "outputs": [],
   "source": [
    "dd = df_cleaned[df_cleaned['Esr1 (Opal 480): Num Spots'] < 150].copy()"
   ]
  },
  {
   "cell_type": "code",
   "execution_count": 75,
   "id": "6a10e576-0682-409c-8a08-308ee51a2051",
   "metadata": {},
   "outputs": [
    {
     "data": {
      "image/png": "[encoded data removed]",
      "text/plain": [
       "<Figure size 431.625x360 with 1 Axes>"
      ]
     },
     "metadata": {
      "needs_background": "light"
     },
     "output_type": "display_data"
    }
   ],
   "source": [
    "positive_threshold = 2\n",
    "dd['Esr1 Positive'] = dd['Esr1 (Opal 480): Num Spots'] > positive_threshold\n",
    "sns.displot(data=dd.sample(frac=.1), hue='Esr1 Positive', x='Esr1 (Opal 480): Num Spots');"
   ]
  },
  {
   "cell_type": "code",
   "execution_count": 76,
   "id": "85ad4f96-9b21-4f7e-ae1b-6ab2af89cb35",
   "metadata": {},
   "outputs": [
    {
     "data": {
      "text/html": [
       "<div>\n",
       "<style scoped>\n",
       "    .dataframe tbody tr th:only-of-type {\n",
       "        vertical-align: middle;\n",
       "    }\n",
       "\n",
       "    .dataframe tbody tr th {\n",
       "        vertical-align: top;\n",
       "    }\n",
       "\n",
       "    .dataframe thead th {\n",
       "        text-align: right;\n",
       "    }\n",
       "</style>\n",
       "<table border=\"1\" class=\"dataframe\">\n",
       "  <thead>\n",
       "    <tr style=\"text-align: right;\">\n",
       "      <th>Esr1 Positive</th>\n",
       "      <th>False</th>\n",
       "      <th>True</th>\n",
       "    </tr>\n",
       "    <tr>\n",
       "      <th>isMPN</th>\n",
       "      <th></th>\n",
       "      <th></th>\n",
       "    </tr>\n",
       "  </thead>\n",
       "  <tbody>\n",
       "    <tr>\n",
       "      <th>False</th>\n",
       "      <td>0.278522</td>\n",
       "      <td>0.721478</td>\n",
       "    </tr>\n",
       "    <tr>\n",
       "      <th>True</th>\n",
       "      <td>0.000644</td>\n",
       "      <td>0.999356</td>\n",
       "    </tr>\n",
       "  </tbody>\n",
       "</table>\n",
       "</div>"
      ],
      "text/plain": [
       "Esr1 Positive     False      True\n",
       "isMPN                            \n",
       "False          0.278522  0.721478\n",
       "True           0.000644  0.999356"
      ]
     },
     "execution_count": 76,
     "metadata": {},
     "output_type": "execute_result"
    },
    {
     "data": {
      "image/png": "[encoded data removed]",
      "text/plain": [
       "<Figure size 360x360 with 1 Axes>"
      ]
     },
     "metadata": {
      "needs_background": "light"
     },
     "output_type": "display_data"
    }
   ],
   "source": [
    "dd['isMPN'] = dd['Acronym'] == 'MPN'\n",
    "sns.catplot(data=dd.sample(frac=.05), x='isMPN', y='Esr1 Positive', kind='bar', estimator=np.mean)\n",
    "dd.groupby('isMPN')['Esr1 Positive'].value_counts(normalize=True).unstack()"
   ]
  },
  {
   "cell_type": "code",
   "execution_count": 74,
   "id": "8a64debb-a953-432e-b942-30c7a345baec",
   "metadata": {},
   "outputs": [
    {
     "data": {
      "text/plain": [
       "<matplotlib.legend.Legend at 0x2c1a9f84100>"
      ]
     },
     "execution_count": 74,
     "metadata": {},
     "output_type": "execute_result"
    },
    {
     "data": {
      "image/png": "[encoded data removed]",
      "text/plain": [
       "<Figure size 432x288 with 1 Axes>"
      ]
     },
     "metadata": {
      "needs_background": "light"
     },
     "output_type": "display_data"
    }
   ],
   "source": [
    "plt.hist(dd[dd['isMPN']]['Esr1 (Opal 480): Num Spots'], density=True, bins=40, alpha=.4, label='MPN');\n",
    "plt.hist(dd[dd['isMPN'] == False]['Esr1 (Opal 480): Num Spots'], density=True, bins=40, alpha=.4, label='Rest of Brain');\n",
    "plt.legend()"
   ]
  },
  {
   "cell_type": "code",
   "execution_count": 66,
   "id": "916ae40c-527b-4f4d-b8e2-85b91758576c",
   "metadata": {},
   "outputs": [
    {
     "data": {
      "image/png": "[encoded data removed]",
      "text/plain": [
       "<Figure size 720x360 with 2 Axes>"
      ]
     },
     "metadata": {
      "needs_background": "light"
     },
     "output_type": "display_data"
    }
   ],
   "source": [
    "sns.displot(data=dd.sample(frac=.3), col='isMPN', x='Esr1 (Opal 480): Num Spots',kind='kde');"
   ]
  },
  {
   "cell_type": "code",
   "execution_count": 35,
   "id": "5e654c54-b671-4d31-a750-b371e3764f90",
   "metadata": {},
   "outputs": [
    {
     "data": {
      "text/plain": [
       "0.042035784644024285"
      ]
     },
     "execution_count": 35,
     "metadata": {},
     "output_type": "execute_result"
    }
   ],
   "source": [
    "df_cleaned['Acronym'].isna().mean()"
   ]
  },
  {
   "cell_type": "code",
   "execution_count": 36,
   "id": "19d8769f-5720-44c8-b7d1-3e21d71d57e4",
   "metadata": {},
   "outputs": [
    {
     "data": {
      "text/plain": [
       "0.04204776781039096"
      ]
     },
     "execution_count": 36,
     "metadata": {},
     "output_type": "execute_result"
    }
   ],
   "source": [
    "dd['Acronym'].isna().mean()"
   ]
  },
  {
   "cell_type": "code",
   "execution_count": null,
   "id": "eebde301-0cb0-44ae-bad4-5239e0c20ef8",
   "metadata": {},
   "outputs": [],
   "source": []
  }
 ],
 "metadata": {
  "kernelspec": {
   "display_name": "Python 3 (ipykernel)",
   "language": "python",
   "name": "python3"
  },
  "language_info": {
   "codemirror_mode": {
    "name": "ipython",
    "version": 3
   },
   "file_extension": ".py",
   "mimetype": "text/x-python",
   "name": "python",
   "nbconvert_exporter": "python",
   "pygments_lexer": "ipython3",
   "version": "3.9.7"
  }
 },
 "nbformat": 4,
 "nbformat_minor": 5
}
